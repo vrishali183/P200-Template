{
 "cells": [
  {
   "cell_type": "markdown",
   "metadata": {},
   "source": [
    "# GUI APPLICATION"
   ]
  },
  {
   "cell_type": "code",
   "execution_count": 4,
   "metadata": {},
   "outputs": [
    {
     "data": {
      "application/vnd.jupyter.widget-view+json": {
       "model_id": "424f95e4ebb44881aae4fe11f475c793",
       "version_major": 2,
       "version_minor": 0
      },
      "text/plain": [
       "Button(description='File select', style=ButtonStyle())"
      ]
     },
     "metadata": {},
     "output_type": "display_data"
    }
   ],
   "source": [
    "#start of predefine code\n",
    "from ipywidgets import widgets\n",
    "from IPython.display import display, clear_output\n",
    "import pandas as pd\n",
    "from tkinter import Tk, filedialog\n",
    "import matplotlib.pyplot as plt \n",
    "import numpy as np\n",
    "graph_type = ['Choose one.. ','bubble','bar']\n",
    "funtionality = ['Choose One','Sort','Filter']\n",
    "sort_option = ['ascending','descending']\n",
    "df = ''\n",
    "new_df = ''\n",
    "input_box = ''\n",
    "input_fontsize = ''\n",
    "input_title = ''\n",
    "#end of predefine code\n",
    "\n",
    "def select_files(b):\n",
    "    clear_output() \n",
    "    global df\n",
    "    root = Tk()\n",
    "    root.withdraw() \n",
    "    file_name = filedialog.askopenfilename() \n",
    "    df = pd.read_csv(file_name)\n",
    "    function_widget = widgets.Dropdown(options=funtionality)\n",
    "    function_int = widgets.interactive(choose_the_function, function=function_widget)\n",
    "    display(function_int)\n",
    "    \n",
    "def choose_the_function(function):\n",
    "    global sort_option\n",
    "    global df\n",
    "    global input_box\n",
    "    if(function == 'Sort'):\n",
    "        sort_col_widget = widgets.Dropdown(options=df.columns)\n",
    "        sort_option_widget = widgets.Dropdown(options = sort_option)\n",
    "        range_widget = widgets.Dropdown(options = [20,30,40])\n",
    "        sort_int = widgets.interactive(sort_dataframe, column=sort_col_widget, type_of_sort= sort_option_widget, head_range=range_widget)\n",
    "        display(sort_int)\n",
    "    elif(function == 'Filter'):\n",
    "        display(df)\n",
    "        input_box = widgets.Text(description='Value:')\n",
    "        display(input_box)\n",
    "        filter_col_widget = widgets.Dropdown(options=df.columns)\n",
    "        compare_widget = widgets.Dropdown(options = ['Choose the option..','=', '>','<'])\n",
    "        head=widgets.Dropdown(options = [20,30,40])\n",
    "        groupby_int = widgets.interactive(filter_dataframe, filter_column=filter_col_widget, comparison= compare_widget,head_df=head)\n",
    "        display(groupby_int)\n",
    "    else:\n",
    "        print('Choose a function')\n",
    "        \n",
    "def sort_dataframe(column, type_of_sort,head_range):\n",
    "    global df\n",
    "    global new_df\n",
    "    try:\n",
    "        print(df[column].dtypes)\n",
    "        if(df[column].dtypes != 'float' or df[column].dtypes != 'int'):\n",
    "            df[column] = df[column].astype(float)\n",
    "        if(type_of_sort == 'ascending'):\n",
    "            new_df = df.sort_values(column, ascending=True)\n",
    "            display(new_df)\n",
    "        else:\n",
    "            new_df = df.sort_values(column, ascending=False)\n",
    "            display(new_df)\n",
    "        new_df = new_df.head(head_range)\n",
    "        get_widget()\n",
    "    except:\n",
    "        print('The data is not structured so cannot perform the selected action')\n",
    "\n",
    "def filter_dataframe(filter_column, comparison,head_df):\n",
    "    print(\"filter_dataframe\")\n",
    "\n",
    "def get_widget():\n",
    "    print(\"get_widget\")\n",
    "    \n",
    "\n",
    "#start of predefine code \n",
    "def display_plot(xaxis, yaxis, graph_type):\n",
    "    global new_df\n",
    "    global input_title\n",
    "    global input_fontsize\n",
    "    if(graph_type == 'bubble'):\n",
    "        plt.subplots(figsize=(19,8))\n",
    "        rgb = np.random.rand(3)\n",
    "        #Write Condition here\n",
    "\n",
    "        #End of write condition here \n",
    "        plt.title(input_title.value, fontsize=input_fontsize.value)\n",
    "        plt.xlabel(xaxis, fontsize=input_fontsize.value)\n",
    "        plt.xticks(rotation='vertical')\n",
    "        plt.ylabel(yaxis, fontsize=input_fontsize.value)\n",
    "        plt.show()\n",
    "    elif(graph_type == 'bar'):\n",
    "        plt.subplots(figsize=(19,8))\n",
    "        plt.bar(new_df[xaxis], new_df[yaxis], color=['red', 'green','blue','yellow','pink'])\n",
    "        plt.title(input_title.value, fontsize=input_fontsize.value)\n",
    "        plt.xlabel(xaxis, fontsize=input_fontsize.value)\n",
    "        plt.xticks(rotation='vertical')\n",
    "        plt.ylabel(yaxis, fontsize=input_fontsize.value)\n",
    "        plt.show()\n",
    "    else:\n",
    "        print(\"Choose valid graph\")\n",
    "fileselect = widgets.Button(description=\"File select\")\n",
    "fileselect.on_click(select_files)\n",
    "display(fileselect)\n",
    "#end of predefined\n"
   ]
  },
  {
   "cell_type": "code",
   "execution_count": null,
   "metadata": {},
   "outputs": [],
   "source": []
  }
 ],
 "metadata": {
  "kernelspec": {
   "display_name": "Python 3",
   "language": "python",
   "name": "python3"
  },
  "language_info": {
   "codemirror_mode": {
    "name": "ipython",
    "version": 3
   },
   "file_extension": ".py",
   "mimetype": "text/x-python",
   "name": "python",
   "nbconvert_exporter": "python",
   "pygments_lexer": "ipython3",
   "version": "3.8.5"
  }
 },
 "nbformat": 4,
 "nbformat_minor": 4
}
